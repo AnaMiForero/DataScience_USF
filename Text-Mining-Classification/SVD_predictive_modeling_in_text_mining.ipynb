{
  "cells": [
    {
      "cell_type": "markdown",
      "metadata": {
        "id": "yhfES1AzBCZA"
      },
      "source": [
        "# Tutorial - Text Mining - Classification \n",
        "\n",
        "We will predict the category of discussion posts in a newsgroup.\n",
        "\n",
        "**The unit of analysis is a discussion post**"
      ]
    },
    {
      "cell_type": "markdown",
      "metadata": {
        "id": "IAs0OnH5BCZF"
      },
      "source": [
        "## 1.0 Import common packages and load data"
      ]
    },
    {
      "cell_type": "code",
      "execution_count": 1,
      "metadata": {
        "id": "goB54I-pBCZF"
      },
      "outputs": [],
      "source": [
        "import pandas as pd\n",
        "import numpy as np\n",
        "\n",
        "np.random.seed(1)"
      ]
    },
    {
      "cell_type": "code",
      "execution_count": 2,
      "metadata": {
        "colab": {
          "base_uri": "https://localhost:8080/"
        },
        "id": "TnceuN7oBCZH",
        "outputId": "888329e8-5b4b-4d6e-b1ee-a91e932353bf"
      },
      "outputs": [
        {
          "data": {
            "text/plain": [
              "(597, 5)"
            ]
          },
          "execution_count": 2,
          "metadata": {},
          "output_type": "execute_result"
        }
      ],
      "source": [
        "news = pd.read_csv('./data/news.csv')\n",
        "\n",
        "news.shape\n"
      ]
    },
    {
      "cell_type": "code",
      "execution_count": 3,
      "metadata": {
        "colab": {
          "base_uri": "https://localhost:8080/",
          "height": 206
        },
        "id": "TlBgHNacBCZI",
        "outputId": "8211fa6e-3c39-4bf1-fd57-ba8301b54b00"
      },
      "outputs": [
        {
          "data": {
            "text/html": [
              "<div>\n",
              "<style scoped>\n",
              "    .dataframe tbody tr th:only-of-type {\n",
              "        vertical-align: middle;\n",
              "    }\n",
              "\n",
              "    .dataframe tbody tr th {\n",
              "        vertical-align: top;\n",
              "    }\n",
              "\n",
              "    .dataframe thead th {\n",
              "        text-align: right;\n",
              "    }\n",
              "</style>\n",
              "<table border=\"1\" class=\"dataframe\">\n",
              "  <thead>\n",
              "    <tr style=\"text-align: right;\">\n",
              "      <th></th>\n",
              "      <th>TEXT</th>\n",
              "      <th>graphics</th>\n",
              "      <th>hockey</th>\n",
              "      <th>medical</th>\n",
              "      <th>newsgroup</th>\n",
              "    </tr>\n",
              "  </thead>\n",
              "  <tbody>\n",
              "    <tr>\n",
              "      <th>0</th>\n",
              "      <td>I have a few reprints left of chapters from my...</td>\n",
              "      <td>1</td>\n",
              "      <td>0</td>\n",
              "      <td>0</td>\n",
              "      <td>graphics</td>\n",
              "    </tr>\n",
              "    <tr>\n",
              "      <th>1</th>\n",
              "      <td>gnuplot, etc. make it easy to plot real valued...</td>\n",
              "      <td>1</td>\n",
              "      <td>0</td>\n",
              "      <td>0</td>\n",
              "      <td>graphics</td>\n",
              "    </tr>\n",
              "    <tr>\n",
              "      <th>2</th>\n",
              "      <td>Article-I.D.: snoopy.1pqlhnINN8k1 References: ...</td>\n",
              "      <td>1</td>\n",
              "      <td>0</td>\n",
              "      <td>0</td>\n",
              "      <td>graphics</td>\n",
              "    </tr>\n",
              "    <tr>\n",
              "      <th>3</th>\n",
              "      <td>Hello, I am looking to add voice input capabil...</td>\n",
              "      <td>1</td>\n",
              "      <td>0</td>\n",
              "      <td>0</td>\n",
              "      <td>graphics</td>\n",
              "    </tr>\n",
              "    <tr>\n",
              "      <th>4</th>\n",
              "      <td>I recently got a file describing a library of ...</td>\n",
              "      <td>1</td>\n",
              "      <td>0</td>\n",
              "      <td>0</td>\n",
              "      <td>graphics</td>\n",
              "    </tr>\n",
              "  </tbody>\n",
              "</table>\n",
              "</div>"
            ],
            "text/plain": [
              "                                                TEXT  graphics  hockey  \\\n",
              "0  I have a few reprints left of chapters from my...         1       0   \n",
              "1  gnuplot, etc. make it easy to plot real valued...         1       0   \n",
              "2  Article-I.D.: snoopy.1pqlhnINN8k1 References: ...         1       0   \n",
              "3  Hello, I am looking to add voice input capabil...         1       0   \n",
              "4  I recently got a file describing a library of ...         1       0   \n",
              "\n",
              "   medical newsgroup  \n",
              "0        0  graphics  \n",
              "1        0  graphics  \n",
              "2        0  graphics  \n",
              "3        0  graphics  \n",
              "4        0  graphics  "
            ]
          },
          "execution_count": 3,
          "metadata": {},
          "output_type": "execute_result"
        }
      ],
      "source": [
        "news.head(5)"
      ]
    },
    {
      "cell_type": "markdown",
      "metadata": {
        "id": "vpOdkMUFDqHD"
      },
      "source": [
        "## 2.0 Preprocessing"
      ]
    },
    {
      "cell_type": "markdown",
      "metadata": {
        "id": "0j90fPk-BCZI"
      },
      "source": [
        "### 2.1 Check for missing values"
      ]
    },
    {
      "cell_type": "code",
      "execution_count": 4,
      "metadata": {
        "colab": {
          "base_uri": "https://localhost:8080/"
        },
        "id": "NWos5T_vBCZJ",
        "outputId": "20ed16bb-4bb5-4e56-c39b-d21de6b188ea"
      },
      "outputs": [
        {
          "data": {
            "text/plain": [
              "TEXT    0\n",
              "dtype: int64"
            ]
          },
          "execution_count": 4,
          "metadata": {},
          "output_type": "execute_result"
        }
      ],
      "source": [
        "news[['TEXT']].isna().sum()"
      ]
    },
    {
      "cell_type": "raw",
      "metadata": {
        "id": "9D6KC75XBCZJ"
      },
      "source": [
        "# If there were missing values:\n",
        "news['TEXT'].fillna('missing', inplace=True)"
      ]
    },
    {
      "cell_type": "markdown",
      "metadata": {
        "id": "o7knu4a2BCZK"
      },
      "source": [
        "### 2.2 Assign the input variable to X and the target variable to y"
      ]
    },
    {
      "cell_type": "code",
      "execution_count": 5,
      "metadata": {
        "id": "smNukAEkBCZK"
      },
      "outputs": [],
      "source": [
        "X = news['TEXT']"
      ]
    },
    {
      "cell_type": "code",
      "execution_count": 6,
      "metadata": {
        "colab": {
          "base_uri": "https://localhost:8080/"
        },
        "id": "sH9p7JkbBCZK",
        "outputId": "e6e2c8a6-6791-48d3-f51b-e4d590bbb5b6"
      },
      "outputs": [
        {
          "data": {
            "text/plain": [
              "pandas.core.series.Series"
            ]
          },
          "execution_count": 6,
          "metadata": {},
          "output_type": "execute_result"
        }
      ],
      "source": [
        "type(X)"
      ]
    },
    {
      "cell_type": "markdown",
      "metadata": {
        "id": "NR1nV7aLBCZL"
      },
      "source": [
        "This is a multi-class classification problem. There are three categories we will predict:<br>\n",
        "Whether a post is \"graphics,\" \"hockey,\" or \"medical\" related"
      ]
    },
    {
      "cell_type": "code",
      "execution_count": 7,
      "metadata": {
        "colab": {
          "base_uri": "https://localhost:8080/"
        },
        "id": "F9aXYJwrBCZL",
        "outputId": "464ae3d0-4440-43cb-e567-e8a615090554"
      },
      "outputs": [
        {
          "data": {
            "text/plain": [
              "array(['graphics', 'hockey', 'medical'], dtype=object)"
            ]
          },
          "execution_count": 7,
          "metadata": {},
          "output_type": "execute_result"
        }
      ],
      "source": [
        "y = news['newsgroup']\n",
        "y.unique()"
      ]
    },
    {
      "cell_type": "code",
      "execution_count": 8,
      "metadata": {
        "colab": {
          "base_uri": "https://localhost:8080/"
        },
        "id": "YQjxr4l9BCZL",
        "outputId": "00847c36-3383-45a8-c060-8a884176dd7f"
      },
      "outputs": [
        {
          "name": "stdout",
          "output_type": "stream",
          "text": [
            "['graphics' 'hockey' 'medical']\n"
          ]
        },
        {
          "data": {
            "text/plain": [
              "array([0, 0, 0, 0, 0, 0, 0, 0, 0, 0, 0, 0, 0, 0, 0, 0, 0, 0, 0, 0, 0, 0,\n",
              "       0, 0, 0, 0, 0, 0, 0, 0, 0, 0, 0, 0, 0, 0, 0, 0, 0, 0, 0, 0, 0, 0,\n",
              "       0, 0, 0, 0, 0, 0, 0, 0, 0, 0, 0, 0, 0, 0, 0, 0, 0, 0, 0, 0, 0, 0,\n",
              "       0, 0, 0, 0, 0, 0, 0, 0, 0, 0, 0, 0, 0, 0, 0, 0, 0, 0, 0, 0, 0, 0,\n",
              "       0, 0, 0, 0, 0, 0, 0, 0, 0, 0, 0, 0, 0, 0, 0, 0, 0, 0, 0, 0, 0, 0,\n",
              "       0, 0, 0, 0, 0, 0, 0, 0, 0, 0, 0, 0, 0, 0, 0, 0, 0, 0, 0, 0, 0, 0,\n",
              "       0, 0, 0, 0, 0, 0, 0, 0, 0, 0, 0, 0, 0, 0, 0, 0, 0, 0, 0, 0, 0, 0,\n",
              "       0, 0, 0, 0, 0, 0, 0, 0, 0, 0, 0, 0, 0, 0, 0, 0, 0, 0, 0, 0, 0, 0,\n",
              "       0, 0, 0, 0, 0, 0, 0, 0, 0, 0, 0, 0, 0, 0, 0, 0, 0, 0, 0, 0, 0, 1,\n",
              "       1, 1, 1, 1, 1, 1, 1, 1, 1, 1, 1, 1, 1, 1, 1, 1, 1, 1, 1, 1, 1, 1,\n",
              "       1, 1, 1, 1, 1, 1, 1, 1, 1, 1, 1, 1, 1, 1, 1, 1, 1, 1, 1, 1, 1, 1,\n",
              "       1, 1, 1, 1, 1, 1, 1, 1, 1, 1, 1, 1, 1, 1, 1, 1, 1, 1, 1, 1, 1, 1,\n",
              "       1, 1, 1, 1, 1, 1, 1, 1, 1, 1, 1, 1, 1, 1, 1, 1, 1, 1, 1, 1, 1, 1,\n",
              "       1, 1, 1, 1, 1, 1, 1, 1, 1, 1, 1, 1, 1, 1, 1, 1, 1, 1, 1, 1, 1, 1,\n",
              "       1, 1, 1, 1, 1, 1, 1, 1, 1, 1, 1, 1, 1, 1, 1, 1, 1, 1, 1, 1, 1, 1,\n",
              "       1, 1, 1, 1, 1, 1, 1, 1, 1, 1, 1, 1, 1, 1, 1, 1, 1, 1, 1, 1, 1, 1,\n",
              "       1, 1, 1, 1, 1, 1, 1, 1, 1, 1, 1, 1, 1, 1, 1, 1, 1, 1, 1, 1, 1, 1,\n",
              "       1, 1, 1, 1, 1, 1, 1, 1, 1, 1, 1, 1, 1, 1, 1, 1, 1, 1, 1, 1, 1, 1,\n",
              "       1, 2, 2, 2, 2, 2, 2, 2, 2, 2, 2, 2, 2, 2, 2, 2, 2, 2, 2, 2, 2, 2,\n",
              "       2, 2, 2, 2, 2, 2, 2, 2, 2, 2, 2, 2, 2, 2, 2, 2, 2, 2, 2, 2, 2, 2,\n",
              "       2, 2, 2, 2, 2, 2, 2, 2, 2, 2, 2, 2, 2, 2, 2, 2, 2, 2, 2, 2, 2, 2,\n",
              "       2, 2, 2, 2, 2, 2, 2, 2, 2, 2, 2, 2, 2, 2, 2, 2, 2, 2, 2, 2, 2, 2,\n",
              "       2, 2, 2, 2, 2, 2, 2, 2, 2, 2, 2, 2, 2, 2, 2, 2, 2, 2, 2, 2, 2, 2,\n",
              "       2, 2, 2, 2, 2, 2, 2, 2, 2, 2, 2, 2, 2, 2, 2, 2, 2, 2, 2, 2, 2, 2,\n",
              "       2, 2, 2, 2, 2, 2, 2, 2, 2, 2, 2, 2, 2, 2, 2, 2, 2, 2, 2, 2, 2, 2,\n",
              "       2, 2, 2, 2, 2, 2, 2, 2, 2, 2, 2, 2, 2, 2, 2, 2, 2, 2, 2, 2, 2, 2,\n",
              "       2, 2, 2, 2, 2, 2, 2, 2, 2, 2, 2, 2, 2, 2, 2, 2, 2, 2, 2, 2, 2, 2,\n",
              "       2, 2, 2])"
            ]
          },
          "execution_count": 8,
          "metadata": {},
          "output_type": "execute_result"
        }
      ],
      "source": [
        "from sklearn import preprocessing\n",
        "\n",
        "le = preprocessing.LabelEncoder()\n",
        "le.fit(y)\n",
        "print(le.classes_)\n",
        "y = le.transform(y)\n",
        "\n",
        "y\n"
      ]
    },
    {
      "cell_type": "markdown",
      "metadata": {
        "id": "Wx_BChyFBCZM"
      },
      "source": [
        "### 2.3 lemmatization"
      ]
    },
    {
      "cell_type": "code",
      "execution_count": 9,
      "metadata": {
        "colab": {
          "base_uri": "https://localhost:8080/"
        },
        "id": "gdgV0IXsBCZM",
        "outputId": "d906128f-4b75-4c5d-c8b5-a7b3ed2f4f9c"
      },
      "outputs": [],
      "source": [
        "import nltk\n",
        "# nltk.download('averaged_perceptron_tagger') # you only need to run this once\n",
        "from nltk.stem import WordNetLemmatizer \n",
        "from nltk import pos_tag, word_tokenize\n"
      ]
    },
    {
      "cell_type": "code",
      "execution_count": 10,
      "metadata": {
        "id": "y-uZtQmEBCZM"
      },
      "outputs": [],
      "source": [
        "transformed_X = []\n",
        "wnl = WordNetLemmatizer()\n",
        "for document in X:\n",
        "    transformed_document = \"\"\n",
        "    for word, tag in pos_tag(word_tokenize(document)):\n",
        "        wntag = tag[0].lower()\n",
        "        wntag = wntag if wntag in ['a', 'r', 'n', 'v'] else None\n",
        "        if not wntag:\n",
        "            lemma = word\n",
        "        else:\n",
        "            lemma = wnl.lemmatize(word, wntag)\n",
        "        transformed_document+= lemma + \" \"\n",
        "    transformed_X += [transformed_document]\n",
        "\n",
        "transformed_X = pd.Series(transformed_X)"
      ]
    },
    {
      "cell_type": "code",
      "execution_count": 11,
      "metadata": {
        "colab": {
          "base_uri": "https://localhost:8080/"
        },
        "id": "tLQrO-q3BCZN",
        "outputId": "73d9a818-6aaa-4046-a5fc-7172c160d964"
      },
      "outputs": [
        {
          "data": {
            "text/plain": [
              "0    I have a few reprint leave of chapter from my ...\n",
              "1    gnuplot , etc . make it easy to plot real valu...\n",
              "2    Article-I.D . : snoopy.1pqlhnINN8k1 References...\n",
              "3    Hello , I be look to add voice input capabilit...\n",
              "4    I recently get a file describe a library of re...\n",
              "dtype: object"
            ]
          },
          "execution_count": 11,
          "metadata": {},
          "output_type": "execute_result"
        }
      ],
      "source": [
        "transformed_X.head()"
      ]
    },
    {
      "cell_type": "code",
      "execution_count": 12,
      "metadata": {
        "colab": {
          "base_uri": "https://localhost:8080/"
        },
        "id": "4E2pU-mFBCZN",
        "outputId": "e95024a8-7176-4bb6-8488-61a8136a9e06"
      },
      "outputs": [
        {
          "data": {
            "text/plain": [
              "0    I have a few reprints left of chapters from my...\n",
              "1    gnuplot, etc. make it easy to plot real valued...\n",
              "2    Article-I.D.: snoopy.1pqlhnINN8k1 References: ...\n",
              "3    Hello, I am looking to add voice input capabil...\n",
              "4    I recently got a file describing a library of ...\n",
              "Name: TEXT, dtype: object"
            ]
          },
          "execution_count": 12,
          "metadata": {},
          "output_type": "execute_result"
        }
      ],
      "source": [
        "X.head()"
      ]
    },
    {
      "cell_type": "markdown",
      "metadata": {
        "id": "idKt3D8KBCZN"
      },
      "source": [
        "### 2.4 Split the data"
      ]
    },
    {
      "cell_type": "code",
      "execution_count": 13,
      "metadata": {
        "id": "Wpja6I9lBCZN"
      },
      "outputs": [],
      "source": [
        "from sklearn.model_selection import train_test_split\n",
        "\n",
        "X_train, X_test, y_train, y_test = train_test_split(transformed_X, y, test_size=0.3)"
      ]
    },
    {
      "cell_type": "code",
      "execution_count": 14,
      "metadata": {
        "colab": {
          "base_uri": "https://localhost:8080/"
        },
        "id": "pgexMBPgBCZO",
        "outputId": "cf2f6847-9930-4389-c9af-ec920ed65d0d"
      },
      "outputs": [
        {
          "data": {
            "text/plain": [
              "((417,), (417,))"
            ]
          },
          "execution_count": 14,
          "metadata": {},
          "output_type": "execute_result"
        }
      ],
      "source": [
        "X_train.shape, y_train.shape"
      ]
    },
    {
      "cell_type": "code",
      "execution_count": 15,
      "metadata": {
        "colab": {
          "base_uri": "https://localhost:8080/"
        },
        "id": "oIO4JyNdBCZO",
        "outputId": "2d34c079-5971-44ee-e89f-11823ca3e4be"
      },
      "outputs": [
        {
          "data": {
            "text/plain": [
              "((180,), (180,))"
            ]
          },
          "execution_count": 15,
          "metadata": {},
          "output_type": "execute_result"
        }
      ],
      "source": [
        "X_test.shape, y_test.shape"
      ]
    },
    {
      "cell_type": "code",
      "execution_count": 16,
      "metadata": {
        "colab": {
          "base_uri": "https://localhost:8080/"
        },
        "id": "Pjho9g7qBCZO",
        "outputId": "7b7ebebf-58bc-46bd-a4b8-ea57d09283f6"
      },
      "outputs": [
        {
          "data": {
            "text/plain": [
              "139    cptully @ med.unc.edu ( Christopher P. Tully ,...\n",
              "157    I 'm a mac user who want to use some of the ra...\n",
              "16     Article-I.D . : DIALix.1praaa $ pqv Organizati...\n",
              "572    I love the FAQ . The comment about contact len...\n",
              "365    In a previous article , steveg @ cadkey.com ( ...\n",
              "dtype: object"
            ]
          },
          "execution_count": 16,
          "metadata": {},
          "output_type": "execute_result"
        }
      ],
      "source": [
        "X_train.head(5)"
      ]
    },
    {
      "cell_type": "code",
      "execution_count": 17,
      "metadata": {
        "colab": {
          "base_uri": "https://localhost:8080/"
        },
        "id": "WpPHUO5UBCZP",
        "outputId": "9c9de5f2-0e8a-44f0-803a-fb8a54d801f2"
      },
      "outputs": [
        {
          "data": {
            "text/plain": [
              "array([0, 0, 0, 2, 1])"
            ]
          },
          "execution_count": 17,
          "metadata": {},
          "output_type": "execute_result"
        }
      ],
      "source": [
        "y_train[:5]"
      ]
    },
    {
      "cell_type": "markdown",
      "metadata": {
        "id": "Ua9I_l5eBCZP"
      },
      "source": [
        "### 2.5 Sklearn: Text preparation\n",
        "\n",
        "For simplicity (and focus), we will not do any text cleaning or preprocessing. We will just use the raw text as input to the model. See the text mining fundamentals tutorial for more details on text cleaning and preprocessing."
      ]
    },
    {
      "cell_type": "code",
      "execution_count": 18,
      "metadata": {
        "id": "XCnJOTSfBCZP"
      },
      "outputs": [],
      "source": [
        "#TfidfVectorizer includes pre-processing, tokenization, filtering stop words\n",
        "from sklearn.feature_extraction.text import TfidfVectorizer\n",
        "\n",
        "tfidf_vect = TfidfVectorizer(stop_words='english', lowercase=True, token_pattern=\"[^\\W\\d_]+\")\n",
        "\n",
        "X_train = tfidf_vect.fit_transform(X_train)"
      ]
    },
    {
      "cell_type": "markdown",
      "metadata": {
        "id": "-yY4dw6hBCZP"
      },
      "source": [
        "**Notice in the previous step that we use `fit_transform` on TRAIN. When we transform the TEST data, we need to use `transform` only. This enables us to keep the number of columns (features) the same across the data sets. Otherwise, they WILL be different, and no model will work!**"
      ]
    },
    {
      "cell_type": "code",
      "execution_count": 19,
      "metadata": {
        "id": "CQ5dgpJXBCZP"
      },
      "outputs": [],
      "source": [
        "# Perform the TfidfVectorizer transformation\n",
        "# Be careful: We are using the train fit to transform the test data set. Otherwise, the test data \n",
        "# features will be very different and match the train set!!!\n",
        "\n",
        "X_test = tfidf_vect.transform(X_test)\n"
      ]
    },
    {
      "cell_type": "code",
      "execution_count": 20,
      "metadata": {
        "colab": {
          "base_uri": "https://localhost:8080/"
        },
        "id": "r4o8GZmABCZQ",
        "outputId": "015baa59-847b-4325-8bd4-afe9fd58e7d0"
      },
      "outputs": [
        {
          "data": {
            "text/plain": [
              "((417, 9229), (180, 9229))"
            ]
          },
          "execution_count": 20,
          "metadata": {},
          "output_type": "execute_result"
        }
      ],
      "source": [
        "X_train.shape, X_test.shape"
      ]
    },
    {
      "cell_type": "code",
      "execution_count": 21,
      "metadata": {
        "colab": {
          "base_uri": "https://localhost:8080/"
        },
        "id": "5Dp2-nVlBCZQ",
        "outputId": "68b37470-48c1-4213-f201-2c87242abfd7"
      },
      "outputs": [
        {
          "data": {
            "text/plain": [
              "<417x9229 sparse matrix of type '<class 'numpy.float64'>'\n",
              "\twith 30421 stored elements in Compressed Sparse Row format>"
            ]
          },
          "execution_count": 21,
          "metadata": {},
          "output_type": "execute_result"
        }
      ],
      "source": [
        "# These data sets are \"sparse matrix\". We can't see them unless we convert using toarray()\n",
        "X_train"
      ]
    },
    {
      "cell_type": "code",
      "execution_count": 22,
      "metadata": {
        "colab": {
          "base_uri": "https://localhost:8080/"
        },
        "id": "na_rr-IIBCZQ",
        "outputId": "a216a8fa-b78c-4894-d451-6e542df8f9ee"
      },
      "outputs": [
        {
          "data": {
            "text/plain": [
              "array([[0.        , 0.        , 0.        , ..., 0.        , 0.        ,\n",
              "        0.        ],\n",
              "       [0.        , 0.        , 0.        , ..., 0.        , 0.        ,\n",
              "        0.        ],\n",
              "       [0.        , 0.        , 0.        , ..., 0.        , 0.        ,\n",
              "        0.        ],\n",
              "       ...,\n",
              "       [0.        , 0.        , 0.        , ..., 0.        , 0.        ,\n",
              "        0.        ],\n",
              "       [0.        , 0.        , 0.        , ..., 0.        , 0.        ,\n",
              "        0.        ],\n",
              "       [0.        , 0.41217195, 0.        , ..., 0.        , 0.        ,\n",
              "        0.        ]])"
            ]
          },
          "execution_count": 22,
          "metadata": {},
          "output_type": "execute_result"
        }
      ],
      "source": [
        "# These data sets are \"sparse matrix\". We can't see them unless we convert using toarray()\n",
        "X_train.toarray()"
      ]
    },
    {
      "cell_type": "markdown",
      "metadata": {
        "id": "uf0uFKMRBCZQ"
      },
      "source": [
        "## 3.0 Latent Semantic Analysis (Singular Value Decomposition)"
      ]
    },
    {
      "cell_type": "code",
      "execution_count": 23,
      "metadata": {
        "id": "u3OCxplXFAEj"
      },
      "outputs": [],
      "source": [
        "from sklearn.decomposition import TruncatedSVD"
      ]
    },
    {
      "cell_type": "markdown",
      "metadata": {
        "id": "iKXpdQtsFPK1"
      },
      "source": [
        "### n_components = 100"
      ]
    },
    {
      "cell_type": "code",
      "execution_count": 24,
      "metadata": {
        "id": "IPNYuh38GDF5"
      },
      "outputs": [],
      "source": [
        "svd = TruncatedSVD(n_components=100, n_iter=10) #n_components is the number of topics, which should be less than the number of features\n",
        "\n",
        "X_train_100 = svd.fit_transform(X_train)\n",
        "X_test_100 = svd.transform(X_test)"
      ]
    },
    {
      "cell_type": "code",
      "execution_count": 25,
      "metadata": {
        "colab": {
          "base_uri": "https://localhost:8080/"
        },
        "id": "5uev6ZAUHOZa",
        "outputId": "7694729e-0ebd-4903-8acc-897e960ac4fe"
      },
      "outputs": [
        {
          "data": {
            "text/plain": [
              "((417, 100), (180, 100))"
            ]
          },
          "execution_count": 25,
          "metadata": {},
          "output_type": "execute_result"
        }
      ],
      "source": [
        "X_train_100.shape, X_test_100.shape"
      ]
    },
    {
      "cell_type": "markdown",
      "metadata": {
        "id": "NioWd0kDFXP6"
      },
      "source": [
        "### n_components = 300"
      ]
    },
    {
      "cell_type": "code",
      "execution_count": 26,
      "metadata": {
        "id": "1eGFz4zvGCOF"
      },
      "outputs": [],
      "source": [
        "svd = TruncatedSVD(n_components=300, n_iter=10) \n",
        "\n",
        "X_train_300 = svd.fit_transform(X_train)\n",
        "X_test_300 = svd.transform(X_test)"
      ]
    },
    {
      "cell_type": "code",
      "execution_count": 27,
      "metadata": {
        "colab": {
          "base_uri": "https://localhost:8080/"
        },
        "id": "GThbciavHfHv",
        "outputId": "a6f7c17b-ffae-414e-d81a-fc4eacba99ab"
      },
      "outputs": [
        {
          "data": {
            "text/plain": [
              "((417, 300), (180, 300))"
            ]
          },
          "execution_count": 27,
          "metadata": {},
          "output_type": "execute_result"
        }
      ],
      "source": [
        "X_train_300.shape, X_test_300.shape"
      ]
    },
    {
      "cell_type": "markdown",
      "metadata": {
        "id": "1JsFs4QNFjxb"
      },
      "source": [
        "### n_components = 500"
      ]
    },
    {
      "cell_type": "code",
      "execution_count": 28,
      "metadata": {
        "id": "u1Rzs-beBCZQ"
      },
      "outputs": [],
      "source": [
        "svd = TruncatedSVD(n_components=500, n_iter=10) \n",
        "\n",
        "X_train_500= svd.fit_transform(X_train)\n",
        "X_test_500 = svd.transform(X_test)\n"
      ]
    },
    {
      "cell_type": "code",
      "execution_count": 29,
      "metadata": {
        "colab": {
          "base_uri": "https://localhost:8080/"
        },
        "id": "JqIF0G2RBCZR",
        "outputId": "4f42a0d5-d9d4-4df5-eea6-99ac3db2be7c"
      },
      "outputs": [
        {
          "data": {
            "text/plain": [
              "((417, 417), (180, 417))"
            ]
          },
          "execution_count": 29,
          "metadata": {},
          "output_type": "execute_result"
        }
      ],
      "source": [
        "X_train_500.shape, X_test_500.shape #n_components is the number of topics, which should be less than the number of features"
      ]
    },
    {
      "cell_type": "markdown",
      "metadata": {
        "id": "2a3eRMInI7iq"
      },
      "source": [
        " ## 4.0 Fitting classifiers"
      ]
    },
    {
      "cell_type": "code",
      "execution_count": 30,
      "metadata": {
        "id": "k5L2z8MW6rKm"
      },
      "outputs": [],
      "source": [
        "from sklearn.metrics import accuracy_score\n",
        "\n",
        "performance = pd.DataFrame({\"model\": [], \"Accuracy\": []})\n",
        "\n",
        "def performance_metric(y_test, model_preds, performance, model_name):\n",
        "    performance = pd.concat([performance, pd.DataFrame({'model': str(model_name), \n",
        "                                                        'Accuracy': accuracy_score(y_test, model_preds)}, index=[0])])\n",
        "    return performance"
      ]
    },
    {
      "cell_type": "markdown",
      "metadata": {
        "id": "UXHyRxP_BCZR"
      },
      "source": [
        "### 4.1 Random Forest"
      ]
    },
    {
      "cell_type": "code",
      "execution_count": 31,
      "metadata": {
        "id": "Qh6_NejNKZr5"
      },
      "outputs": [],
      "source": [
        "from sklearn.ensemble import RandomForestClassifier "
      ]
    },
    {
      "cell_type": "code",
      "execution_count": 32,
      "metadata": {
        "id": "sWpLpJIDBCZR"
      },
      "outputs": [],
      "source": [
        "rnd_clf_100 = RandomForestClassifier(n_estimators=100, max_leaf_nodes=16, n_jobs=-1) \n",
        "_ = rnd_clf_100.fit(X_train_100, y_train)"
      ]
    },
    {
      "cell_type": "code",
      "execution_count": 33,
      "metadata": {
        "id": "oCnbrdICLDcZ"
      },
      "outputs": [],
      "source": [
        "rnd_clf_300 = RandomForestClassifier(n_estimators=100, max_leaf_nodes=16, n_jobs=-1) \n",
        "_ = rnd_clf_300.fit(X_train_300, y_train)"
      ]
    },
    {
      "cell_type": "code",
      "execution_count": 34,
      "metadata": {
        "id": "FfcSvG56LUs8"
      },
      "outputs": [],
      "source": [
        "rnd_clf_500 = RandomForestClassifier(n_estimators=100, max_leaf_nodes=16, n_jobs=-1) \n",
        "_ = rnd_clf_500.fit(X_train_500, y_train)"
      ]
    },
    {
      "cell_type": "markdown",
      "metadata": {
        "id": "XaVFw2wIBCZR"
      },
      "source": [
        "#### 4.1.1 Evaluating Model Performance"
      ]
    },
    {
      "cell_type": "code",
      "execution_count": 35,
      "metadata": {
        "colab": {
          "base_uri": "https://localhost:8080/"
        },
        "id": "8QpEdAoiBCZR",
        "outputId": "fbe168b6-2369-4164-e41d-b2dd051f9d8a"
      },
      "outputs": [
        {
          "name": "stdout",
          "output_type": "stream",
          "text": [
            "Train acc 100: 0.9760\n",
            "Train acc 300: 0.9928\n",
            "Train acc 500: 0.9880\n"
          ]
        }
      ],
      "source": [
        "#Train accuracy - Not a good measure of model performance as we are using the same data set to train and test\n",
        "y_pred_train_100 = rnd_clf_100.predict(X_train_100)\n",
        "y_pred_train_300 = rnd_clf_300.predict(X_train_300)\n",
        "y_pred_train_500 = rnd_clf_500.predict(X_train_500)\n",
        "print(f\"Train acc 100: {accuracy_score(y_train, y_pred_train_100):.4f}\")\n",
        "print(f\"Train acc 300: {accuracy_score(y_train, y_pred_train_300):.4f}\")\n",
        "print(f\"Train acc 500: {accuracy_score(y_train, y_pred_train_500):.4f}\")\n"
      ]
    },
    {
      "cell_type": "code",
      "execution_count": 36,
      "metadata": {
        "colab": {
          "base_uri": "https://localhost:8080/"
        },
        "id": "IPUY01MDBCZR",
        "outputId": "c0be1c2c-0971-4167-e54f-06a9a8360fbf"
      },
      "outputs": [
        {
          "name": "stdout",
          "output_type": "stream",
          "text": [
            "Test acc 100: 0.9278\n",
            "Test acc 300: 0.8944\n",
            "Test acc 500: 0.9111\n"
          ]
        }
      ],
      "source": [
        "#Test accuracy\n",
        "y_pred_test_100 = rnd_clf_100.predict(X_test_100)\n",
        "y_pred_test_300 = rnd_clf_300.predict(X_test_300)\n",
        "y_pred_test_500 = rnd_clf_500.predict(X_test_500)\n",
        "\n",
        "print(f\"Test acc 100: {accuracy_score(y_test, y_pred_test_100):.4f}\")\n",
        "print(f\"Test acc 300: {accuracy_score(y_test, y_pred_test_300):.4f}\")\n",
        "print(f\"Test acc 500: {accuracy_score(y_test, y_pred_test_500):.4f}\")\n",
        "\n",
        "performance = performance_metric(y_test, y_pred_test_100, performance, \"random forest 100\")\n",
        "performance = performance_metric(y_test, y_pred_test_300, performance, \"random forest 300\")\n",
        "performance = performance_metric(y_test, y_pred_test_500, performance, \"random forest 500\")\n",
        "\n"
      ]
    },
    {
      "cell_type": "code",
      "execution_count": 37,
      "metadata": {
        "colab": {
          "base_uri": "https://localhost:8080/"
        },
        "id": "f93lVlsIBCZS",
        "outputId": "86a52a55-ef52-4fd4-c1a9-0758558aa688"
      },
      "outputs": [
        {
          "name": "stdout",
          "output_type": "stream",
          "text": [
            "100 \n",
            " [[58  0  2]\n",
            " [ 1 57  0]\n",
            " [ 9  1 52]] \n",
            "\n",
            "300 \n",
            " [[56  0  4]\n",
            " [ 1 54  3]\n",
            " [ 9  2 51]] \n",
            "\n",
            "500 \n",
            " [[56  1  3]\n",
            " [ 1 55  2]\n",
            " [ 8  1 53]]\n"
          ]
        }
      ],
      "source": [
        "# Confusion Matrix\n",
        "from sklearn.metrics import confusion_matrix\n",
        "\n",
        "print(\"100\", \"\\n\", confusion_matrix(y_test, y_pred_test_100), \"\\n\")\n",
        "print(\"300\", \"\\n\", confusion_matrix(y_test, y_pred_test_300), \"\\n\")\n",
        "print(\"500\", \"\\n\", confusion_matrix(y_test, y_pred_test_500))"
      ]
    },
    {
      "cell_type": "markdown",
      "metadata": {
        "id": "HTcoK30fBCZS"
      },
      "source": [
        "### 4.2 Stochastic Gradient Descent Classifier"
      ]
    },
    {
      "cell_type": "code",
      "execution_count": 38,
      "metadata": {
        "id": "Z6Jzk8vX8Y_i"
      },
      "outputs": [],
      "source": [
        "from sklearn.linear_model import SGDClassifier\n",
        "from sklearn.metrics import confusion_matrix"
      ]
    },
    {
      "cell_type": "code",
      "execution_count": 39,
      "metadata": {
        "id": "oX4dn-j6BCZS"
      },
      "outputs": [],
      "source": [
        "sgd_clf_100 = SGDClassifier(max_iter=100)\n",
        "_ = sgd_clf_100.fit(X_train_100, y_train)"
      ]
    },
    {
      "cell_type": "code",
      "execution_count": 40,
      "metadata": {
        "id": "POkIVA2u8kwK"
      },
      "outputs": [],
      "source": [
        "sgd_clf_300 = SGDClassifier(max_iter=100)\n",
        "_ = sgd_clf_300.fit(X_train_300, y_train)"
      ]
    },
    {
      "cell_type": "code",
      "execution_count": 41,
      "metadata": {
        "id": "PIoGTPmz8mfV"
      },
      "outputs": [],
      "source": [
        "sgd_clf_500 = SGDClassifier(max_iter=100)\n",
        "_ = sgd_clf_500.fit(X_train_500, y_train)"
      ]
    },
    {
      "cell_type": "markdown",
      "metadata": {
        "id": "m2ehJ_QGBCZS"
      },
      "source": [
        "#### 4.2.1 Evaluating Model Performance"
      ]
    },
    {
      "cell_type": "code",
      "execution_count": 42,
      "metadata": {
        "colab": {
          "base_uri": "https://localhost:8080/"
        },
        "id": "VeHhISIQBCZS",
        "outputId": "9196f9ef-1e0c-456a-c9ea-f27823a9493b"
      },
      "outputs": [
        {
          "name": "stdout",
          "output_type": "stream",
          "text": [
            "Train acc 100: 0.9928\n",
            "Train acc 300: 0.9976\n",
            "Train acc 500: 0.9976\n"
          ]
        }
      ],
      "source": [
        "#Train accuracy\n",
        "y_pred_train_100 = sgd_clf_100.predict(X_train_100)\n",
        "y_pred_train_300 = sgd_clf_300.predict(X_train_300)\n",
        "y_pred_train_500 = sgd_clf_500.predict(X_train_500)\n",
        "print(f\"Train acc 100: {accuracy_score(y_train, y_pred_train_100):.4f}\")\n",
        "print(f\"Train acc 300: {accuracy_score(y_train, y_pred_train_300):.4f}\")\n",
        "print(f\"Train acc 500: {accuracy_score(y_train, y_pred_train_500):.4f}\")"
      ]
    },
    {
      "cell_type": "code",
      "execution_count": 43,
      "metadata": {
        "colab": {
          "base_uri": "https://localhost:8080/"
        },
        "id": "l5-LqwxMBCZS",
        "outputId": "8506b755-9559-4249-cdd0-12a5f86b1c15"
      },
      "outputs": [
        {
          "name": "stdout",
          "output_type": "stream",
          "text": [
            "Train acc: 0.9444\n",
            "Train acc: 0.9611\n",
            "Train acc: 0.9500\n"
          ]
        }
      ],
      "source": [
        "#Test accuracy\n",
        "y_pred_test_100 = sgd_clf_100.predict(X_test_100)\n",
        "y_pred_test_300 = sgd_clf_300.predict(X_test_300)\n",
        "y_pred_test_500 = sgd_clf_500.predict(X_test_500)\n",
        "\n",
        "print(f\"Train acc: {accuracy_score(y_test, y_pred_test_100):.4f}\")\n",
        "print(f\"Train acc: {accuracy_score(y_test, y_pred_test_300):.4f}\")\n",
        "print(f\"Train acc: {accuracy_score(y_test, y_pred_test_500):.4f}\")\n",
        "\n",
        "performance = performance_metric(y_test, y_pred_test_100, performance, \"SGD classifier 100\")\n",
        "performance = performance_metric(y_test, y_pred_test_300, performance, \"SGD classifier 300\")\n",
        "performance = performance_metric(y_test, y_pred_test_500, performance, \"SGD classifier 500\")"
      ]
    },
    {
      "cell_type": "code",
      "execution_count": 44,
      "metadata": {
        "colab": {
          "base_uri": "https://localhost:8080/",
          "height": 301
        },
        "id": "F4MacwFlAdv8",
        "outputId": "7a76e5d7-e0ea-402c-b1a4-68977ebebd41"
      },
      "outputs": [
        {
          "data": {
            "text/html": [
              "<div>\n",
              "<style scoped>\n",
              "    .dataframe tbody tr th:only-of-type {\n",
              "        vertical-align: middle;\n",
              "    }\n",
              "\n",
              "    .dataframe tbody tr th {\n",
              "        vertical-align: top;\n",
              "    }\n",
              "\n",
              "    .dataframe thead th {\n",
              "        text-align: right;\n",
              "    }\n",
              "</style>\n",
              "<table border=\"1\" class=\"dataframe\">\n",
              "  <thead>\n",
              "    <tr style=\"text-align: right;\">\n",
              "      <th></th>\n",
              "      <th>model</th>\n",
              "      <th>Accuracy</th>\n",
              "    </tr>\n",
              "  </thead>\n",
              "  <tbody>\n",
              "    <tr>\n",
              "      <th>0</th>\n",
              "      <td>random forest 100</td>\n",
              "      <td>0.927778</td>\n",
              "    </tr>\n",
              "    <tr>\n",
              "      <th>0</th>\n",
              "      <td>random forest 300</td>\n",
              "      <td>0.894444</td>\n",
              "    </tr>\n",
              "    <tr>\n",
              "      <th>0</th>\n",
              "      <td>random forest 500</td>\n",
              "      <td>0.911111</td>\n",
              "    </tr>\n",
              "    <tr>\n",
              "      <th>0</th>\n",
              "      <td>SGD classifier 100</td>\n",
              "      <td>0.944444</td>\n",
              "    </tr>\n",
              "    <tr>\n",
              "      <th>0</th>\n",
              "      <td>SGD classifier 300</td>\n",
              "      <td>0.961111</td>\n",
              "    </tr>\n",
              "    <tr>\n",
              "      <th>0</th>\n",
              "      <td>SGD classifier 500</td>\n",
              "      <td>0.950000</td>\n",
              "    </tr>\n",
              "  </tbody>\n",
              "</table>\n",
              "</div>"
            ],
            "text/plain": [
              "                model  Accuracy\n",
              "0   random forest 100  0.927778\n",
              "0   random forest 300  0.894444\n",
              "0   random forest 500  0.911111\n",
              "0  SGD classifier 100  0.944444\n",
              "0  SGD classifier 300  0.961111\n",
              "0  SGD classifier 500  0.950000"
            ]
          },
          "execution_count": 44,
          "metadata": {},
          "output_type": "execute_result"
        }
      ],
      "source": [
        "performance"
      ]
    },
    {
      "cell_type": "code",
      "execution_count": 45,
      "metadata": {
        "colab": {
          "base_uri": "https://localhost:8080/"
        },
        "id": "lDHO_y6eBCZT",
        "outputId": "280df34f-a6bf-40bb-ae6b-3c35b8373cd2"
      },
      "outputs": [
        {
          "name": "stdout",
          "output_type": "stream",
          "text": [
            "100 \n",
            " [[60  0  0]\n",
            " [ 5 52  1]\n",
            " [ 3  1 58]] \n",
            "\n",
            "300 \n",
            " [[58  1  1]\n",
            " [ 1 57  0]\n",
            " [ 2  2 58]] \n",
            "\n",
            "500 \n",
            " [[60  0  0]\n",
            " [ 1 57  0]\n",
            " [ 3  5 54]]\n"
          ]
        }
      ],
      "source": [
        "# Confusion Matrix\n",
        "print(\"100\", \"\\n\", confusion_matrix(y_test, y_pred_test_100),\"\\n\")\n",
        "print(\"300\", \"\\n\", confusion_matrix(y_test, y_pred_test_300),\"\\n\")\n",
        "print(\"500\", \"\\n\", confusion_matrix(y_test, y_pred_test_500))"
      ]
    },
    {
      "attachments": {},
      "cell_type": "markdown",
      "metadata": {
        "id": "xd_dGxRbB90M"
      },
      "source": [
        "# 5.0 Summary "
      ]
    },
    {
      "cell_type": "code",
      "execution_count": 46,
      "metadata": {
        "colab": {
          "base_uri": "https://localhost:8080/",
          "height": 332
        },
        "id": "wZVwwExgCAt-",
        "outputId": "c5312f69-b692-496f-a55e-9dc2e628c5e4"
      },
      "outputs": [
        {
          "data": {
            "text/html": [
              "<div>\n",
              "<style scoped>\n",
              "    .dataframe tbody tr th:only-of-type {\n",
              "        vertical-align: middle;\n",
              "    }\n",
              "\n",
              "    .dataframe tbody tr th {\n",
              "        vertical-align: top;\n",
              "    }\n",
              "\n",
              "    .dataframe thead th {\n",
              "        text-align: right;\n",
              "    }\n",
              "</style>\n",
              "<table border=\"1\" class=\"dataframe\">\n",
              "  <thead>\n",
              "    <tr style=\"text-align: right;\">\n",
              "      <th></th>\n",
              "      <th>model</th>\n",
              "      <th>Accuracy</th>\n",
              "    </tr>\n",
              "  </thead>\n",
              "  <tbody>\n",
              "    <tr>\n",
              "      <th>0</th>\n",
              "      <td>random forest 300</td>\n",
              "      <td>0.894444</td>\n",
              "    </tr>\n",
              "    <tr>\n",
              "      <th>0</th>\n",
              "      <td>random forest 500</td>\n",
              "      <td>0.911111</td>\n",
              "    </tr>\n",
              "    <tr>\n",
              "      <th>0</th>\n",
              "      <td>random forest 100</td>\n",
              "      <td>0.927778</td>\n",
              "    </tr>\n",
              "    <tr>\n",
              "      <th>0</th>\n",
              "      <td>SGD classifier 100</td>\n",
              "      <td>0.944444</td>\n",
              "    </tr>\n",
              "    <tr>\n",
              "      <th>0</th>\n",
              "      <td>SGD classifier 500</td>\n",
              "      <td>0.950000</td>\n",
              "    </tr>\n",
              "    <tr>\n",
              "      <th>0</th>\n",
              "      <td>SGD classifier 300</td>\n",
              "      <td>0.961111</td>\n",
              "    </tr>\n",
              "  </tbody>\n",
              "</table>\n",
              "</div>"
            ],
            "text/plain": [
              "                model  Accuracy\n",
              "0   random forest 300  0.894444\n",
              "0   random forest 500  0.911111\n",
              "0   random forest 100  0.927778\n",
              "0  SGD classifier 100  0.944444\n",
              "0  SGD classifier 500  0.950000\n",
              "0  SGD classifier 300  0.961111"
            ]
          },
          "execution_count": 46,
          "metadata": {},
          "output_type": "execute_result"
        }
      ],
      "source": [
        "performance.sort_values(by=['Accuracy'])"
      ]
    },
    {
      "attachments": {},
      "cell_type": "markdown",
      "metadata": {
        "id": "Hm2DtLkJETGD"
      },
      "source": [
        "For random forest, the fewer components, the better the accuracy. Meanwhile, in the SGD classifier (for this random seed) an intermediate number of components kept in SVD achieved the best accuracy.\n",
        "\n",
        "The best SVD number of components in SGD is the worst in random forest. SVD may be helpful when we have sparse data and when data is highly correlated, therefore fewer number features/components will lead to better classification.\n",
        "\n",
        "While SVD can help to reduce the number of features and improve speed, it can also make the model less interpretable and lead to overfitting because it extracts the dominant patterns, and if you have very noisy data you will end up overfitting. To use or not SVD depends on the particular problem/application.\n",
        "\n"
      ]
    }
  ],
  "metadata": {
    "colab": {
      "provenance": []
    },
    "kernelspec": {
      "display_name": "Python 3 (ipykernel)",
      "language": "python",
      "name": "python3"
    },
    "language_info": {
      "codemirror_mode": {
        "name": "ipython",
        "version": 3
      },
      "file_extension": ".py",
      "mimetype": "text/x-python",
      "name": "python",
      "nbconvert_exporter": "python",
      "pygments_lexer": "ipython3",
      "version": "3.9.12"
    },
    "toc": {
      "base_numbering": 1,
      "nav_menu": {},
      "number_sections": false,
      "sideBar": true,
      "skip_h1_title": false,
      "title_cell": "Table of Contents",
      "title_sidebar": "Contents",
      "toc_cell": false,
      "toc_position": {},
      "toc_section_display": true,
      "toc_window_display": false
    },
    "varInspector": {
      "cols": {
        "lenName": 16,
        "lenType": 16,
        "lenVar": 40
      },
      "kernels_config": {
        "python": {
          "delete_cmd_postfix": "",
          "delete_cmd_prefix": "del ",
          "library": "var_list.py",
          "varRefreshCmd": "print(var_dic_list())"
        },
        "r": {
          "delete_cmd_postfix": ") ",
          "delete_cmd_prefix": "rm(",
          "library": "var_list.r",
          "varRefreshCmd": "cat(var_dic_list()) "
        }
      },
      "types_to_exclude": [
        "module",
        "function",
        "builtin_function_or_method",
        "instance",
        "_Feature"
      ],
      "window_display": false
    }
  },
  "nbformat": 4,
  "nbformat_minor": 0
}
